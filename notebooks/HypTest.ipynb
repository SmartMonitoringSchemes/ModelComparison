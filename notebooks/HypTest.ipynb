{
 "cells": [
  {
   "cell_type": "code",
   "execution_count": null,
   "metadata": {},
   "outputs": [],
   "source": [
    "using ArgCheck\n",
    "using DataFrames\n",
    "using Distributions\n",
    "using HDPHMM\n",
    "using Glob\n",
    "using JSON\n",
    "using ModelComparison\n",
    "using ProgressMeter"
   ]
  },
  {
   "cell_type": "code",
   "execution_count": null,
   "metadata": {},
   "outputs": [],
   "source": [
    "# TODO: Move this (and HDPHMM.jl/src/io.jl HMM(...))\n",
    "# to HMMBase ? With generic parse code for distributions.\n",
    "function HMMBase.HMM(D::Type{<:Distribution}, d::Dict)\n",
    "    a = Vector{Float64}(d[\"a\"])\n",
    "    A = Matrix{Float64}(hcat(d[\"A\"]...))\n",
    "    B = map(D, d[\"B\"])\n",
    "    HMM(a, A, B)\n",
    "end\n",
    "\n",
    "struct DataModel\n",
    "    data::Vector{Float64}\n",
    "    dpmm::MixtureModel\n",
    "    hdphmm::HMM\n",
    "    hdpghmm::HMM\n",
    "end\n",
    "\n",
    "function DataModel(o::Dict)\n",
    "    data = Vector{Float64}(o[\"data\"])\n",
    "    dpmm = MixtureModel(Normal, o[\"DPMM\"])\n",
    "    hdphmm = HMM(MixtureModel, Normal, o[\"HDPHMM\"])\n",
    "    hdpghmm = HMM(MixtureModel, Normal, o[\"HDPGHMM\"])\n",
    "    DataModel(data, dpmm, hdphmm, hdpghmm)\n",
    "end\n",
    "\n",
    "function JSON.parsefile(::Type{DataModel}, filename)\n",
    "    DataModel(parsefile(filename))\n",
    "end"
   ]
  },
  {
   "cell_type": "markdown",
   "metadata": {},
   "source": [
    "### Main"
   ]
  },
  {
   "cell_type": "code",
   "execution_count": null,
   "metadata": {},
   "outputs": [],
   "source": [
    "function calibrate_hyptest(h0::Union{Distribution,HMM}, h1::Union{Distribution,HMM}, T::Integer, N::Integer)\n",
    "    @argcheck T > 0\n",
    "    @argcheck N > 0\n",
    "\n",
    "    ratios = zeros(N)\n",
    "\n",
    "    for n in eachindex(ratios)\n",
    "        # (1) Generate time series of length T according to `hmm` (H0)\n",
    "        # (2) Compute the log of the likelihood ratio hmm / hdphmm\n",
    "        y = rand(h0, T)\n",
    "        ratios[n] = (loglikelihood(h0, y)/length(y)) - (loglikelihood(h1, y)/length(y))\n",
    "    end\n",
    "\n",
    "    αs = range(0.0, 1.0, step = 0.05)\n",
    "    ks = zeros(size(αs))\n",
    "\n",
    "    for (i, α) in enumerate(αs)\n",
    "        if α == 1.0\n",
    "            ks[i] = Inf\n",
    "        elseif α == 0.0\n",
    "            ks[i] = -Inf\n",
    "        else\n",
    "            # Find k such that sum(ratios .<= k) = N*α\n",
    "            x = range(extrema(ratios)..., length = 2000)\n",
    "            r = [abs(sum(ratios .<= k) - N*α) for k in x]\n",
    "            ks[i] = x[findmin(r)[2]]\n",
    "        end\n",
    "    end\n",
    "\n",
    "    αs, ks\n",
    "end"
   ]
  },
  {
   "cell_type": "code",
   "execution_count": null,
   "metadata": {},
   "outputs": [],
   "source": [
    "files = glob(\"*.models.json\", \"../data/ping_v4_1580511600_1581116400_noself_pairs/\");"
   ]
  },
  {
   "cell_type": "code",
   "execution_count": null,
   "metadata": {},
   "outputs": [],
   "source": [
    "tests = DataFrame([[], [], [], [], [], []], [:file, :h0, :alpha, :k, :ratio, :result])\n",
    "h1 = :hdphmm\n",
    "N = 200\n",
    "\n",
    "@showprogress for file in files\n",
    "    try\n",
    "        model = parsefile(DataModel, file)\n",
    "        for h0 in [:dpmm, :hdpghmm]\n",
    "            m0 = getfield(model, h0)\n",
    "            m1 = getfield(model, h1)\n",
    "            αs, ks = calibrate_hyptest(m0, m1, length(model.data), N)\n",
    "            ratio = (loglikelihood(m0, model.data)/length(model.data)) - (loglikelihood(m1, model.data)/length(model.data))\n",
    "            for (α, k) in zip(αs, ks)\n",
    "                push!(tests, [file, h0, α, k, ratio, ratio <= k])\n",
    "            end\n",
    "        end\n",
    "    catch e\n",
    "        (e isa InterruptException) && (break)\n",
    "        @warn e\n",
    "    end\n",
    "end"
   ]
  },
  {
   "cell_type": "code",
   "execution_count": null,
   "metadata": {},
   "outputs": [],
   "source": [
    "for h0 in unique(tests.h0), α in unique(tests.alpha)\n",
    "    df_ = tests[(tests.h0 .== h0) .& (tests.alpha .== α), :]\n",
    "    accepted = sum(df_.result) / size(df_.result, 1)\n",
    "    println(\"H0 = $h0, alpha = $α, accepted = $accepted\")\n",
    "end"
   ]
  },
  {
   "cell_type": "markdown",
   "metadata": {},
   "source": [
    "### Plots\n",
    "\n",
    "(I was in a hurry to generate the plots, so instead of re-running the simulation I just parsed the text output from the previous cells. A much better way would be to store the results directly :-))"
   ]
  },
  {
   "cell_type": "code",
   "execution_count": null,
   "metadata": {},
   "outputs": [],
   "source": [
    "using PyPlot\n",
    "using ThesisTools"
   ]
  },
  {
   "cell_type": "code",
   "execution_count": null,
   "metadata": {},
   "outputs": [],
   "source": [
    "results_dpmm = \"\"\"H0 = dpmm, alpha = 0.0, accepted = 0.0\n",
    "H0 = dpmm, alpha = 0.05, accepted = 0.9461663947797716\n",
    "H0 = dpmm, alpha = 0.1, accepted = 0.9477977161500816\n",
    "H0 = dpmm, alpha = 0.15, accepted = 0.9494290375203915\n",
    "H0 = dpmm, alpha = 0.2, accepted = 0.9510603588907015\n",
    "H0 = dpmm, alpha = 0.25, accepted = 0.9510603588907015\n",
    "H0 = dpmm, alpha = 0.3, accepted = 0.9510603588907015\n",
    "H0 = dpmm, alpha = 0.35, accepted = 0.9510603588907015\n",
    "H0 = dpmm, alpha = 0.4, accepted = 0.9510603588907015\n",
    "H0 = dpmm, alpha = 0.45, accepted = 0.9526916802610114\n",
    "H0 = dpmm, alpha = 0.5, accepted = 0.9526916802610114\n",
    "H0 = dpmm, alpha = 0.55, accepted = 0.9543230016313213\n",
    "H0 = dpmm, alpha = 0.6, accepted = 0.9608482871125612\n",
    "H0 = dpmm, alpha = 0.65, accepted = 0.965742251223491\n",
    "H0 = dpmm, alpha = 0.7, accepted = 0.9706362153344209\n",
    "H0 = dpmm, alpha = 0.75, accepted = 0.9771615008156607\n",
    "H0 = dpmm, alpha = 0.8, accepted = 0.9853181076672104\n",
    "H0 = dpmm, alpha = 0.85, accepted = 0.9934747145187602\n",
    "H0 = dpmm, alpha = 0.9, accepted = 0.9934747145187602\n",
    "H0 = dpmm, alpha = 0.95, accepted = 0.9967373572593801\n",
    "H0 = dpmm, alpha = 1.0, accepted = 1.0\"\"\"\n",
    "\n",
    "results_hdpghmm = \"\"\"H0 = hdpghmm, alpha = 0.0, accepted = 0.0\n",
    "H0 = hdpghmm, alpha = 0.05, accepted = 0.653910149750416\n",
    "H0 = hdpghmm, alpha = 0.1, accepted = 0.697171381031614\n",
    "H0 = hdpghmm, alpha = 0.15, accepted = 0.7271214642262895\n",
    "H0 = hdpghmm, alpha = 0.2, accepted = 0.7504159733777038\n",
    "H0 = hdpghmm, alpha = 0.25, accepted = 0.7770382695507487\n",
    "H0 = hdpghmm, alpha = 0.3, accepted = 0.7870216306156406\n",
    "H0 = hdpghmm, alpha = 0.35, accepted = 0.800332778702163\n",
    "H0 = hdpghmm, alpha = 0.4, accepted = 0.8186356073211315\n",
    "H0 = hdpghmm, alpha = 0.45, accepted = 0.8236272878535774\n",
    "H0 = hdpghmm, alpha = 0.5, accepted = 0.8452579034941764\n",
    "H0 = hdpghmm, alpha = 0.55, accepted = 0.8569051580698835\n",
    "H0 = hdpghmm, alpha = 0.6, accepted = 0.8618968386023295\n",
    "H0 = hdpghmm, alpha = 0.65, accepted = 0.8685524126455907\n",
    "H0 = hdpghmm, alpha = 0.7, accepted = 0.8768718801996672\n",
    "H0 = hdpghmm, alpha = 0.75, accepted = 0.8885191347753744\n",
    "H0 = hdpghmm, alpha = 0.8, accepted = 0.8968386023294509\n",
    "H0 = hdpghmm, alpha = 0.85, accepted = 0.9018302828618968\n",
    "H0 = hdpghmm, alpha = 0.9, accepted = 0.9101497504159733\n",
    "H0 = hdpghmm, alpha = 0.95, accepted = 0.9217970049916805\n",
    "H0 = hdpghmm, alpha = 1.0, accepted = 1.0\"\"\";"
   ]
  },
  {
   "cell_type": "code",
   "execution_count": null,
   "metadata": {},
   "outputs": [],
   "source": [
    "αs = 0:0.05:1.0\n",
    "dpmm = map(x -> parse(Float64, split(x, \"accepted = \")[end]) * 100, split(results_dpmm, \"\\n\"))\n",
    "hdpghmm = map(x -> parse(Float64, split(x, \"accepted = \")[end]) * 100, split(results_hdpghmm, \"\\n\"));"
   ]
  },
  {
   "cell_type": "code",
   "execution_count": null,
   "metadata": {},
   "outputs": [],
   "source": [
    "fig, ax = subplots()\n",
    "ax.scatter(quant_tho, quant_obs)\n",
    "ax.plot([0, 5], [0, 5], label = L\"$y = x$\")\n",
    "ax.set(xlim = (0, 5), ylim = (0, 5), xlabel = \"Quantiles théoriques Exp(1)\", ylabel = \"Quantiles observés\")\n",
    "ax.grid()\n",
    "save_thesis(\"atlas_durations_qq\")"
   ]
  },
  {
   "cell_type": "code",
   "execution_count": null,
   "metadata": {},
   "outputs": [],
   "source": [
    "fig, ax = subplots()\n",
    "ax.plot(αs, dpmm, marker=\"x\", label = \"\\$H_0\\$ : DPMM, \\$H_1\\$ : HDP-HMM-G\")\n",
    "ax.plot(αs, hdpghmm, marker=\"x\", label = \"\\$H_0\\$ : HDP-HMM-G, \\$H_1\\$ : HDP-HMM-D\")\n",
    "ax.grid()\n",
    "ax.legend(loc = \"lower right\")\n",
    "ax.set(xlabel = \"Probabilité de fausse alarme \\$\\\\alpha\\$\", ylabel = \"Taux de rejet de \\$H_0\\$ (%)\")\n",
    "save_thesis(\"likelihood_ratio_test\")"
   ]
  },
  {
   "cell_type": "code",
   "execution_count": null,
   "metadata": {},
   "outputs": [],
   "source": []
  },
  {
   "cell_type": "code",
   "execution_count": null,
   "metadata": {},
   "outputs": [],
   "source": []
  }
 ],
 "metadata": {
  "kernelspec": {
   "display_name": "Julia 1.5.0",
   "language": "julia",
   "name": "julia-1.5"
  },
  "language_info": {
   "file_extension": ".jl",
   "mimetype": "application/julia",
   "name": "julia",
   "version": "1.5.0"
  }
 },
 "nbformat": 4,
 "nbformat_minor": 4
}
